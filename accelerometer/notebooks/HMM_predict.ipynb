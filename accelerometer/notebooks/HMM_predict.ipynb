{
 "cells": [
  {
   "cell_type": "code",
   "execution_count": 1,
   "id": "84ffae7a-a5e5-436e-b1a6-f46b7fe7da61",
   "metadata": {},
   "outputs": [
    {
     "name": "stdout",
     "output_type": "stream",
     "text": [
      "The history saving thread hit an unexpected error (OperationalError('attempt to write a readonly database')).History will not be written to the database.\n"
     ]
    }
   ],
   "source": [
    "import pandas as pd\n",
    "df = pd.read_csv(\"/home/aayush/accelerometer/trainClassification_input.csv\")"
   ]
  },
  {
   "cell_type": "code",
   "execution_count": 15,
   "id": "d37f111a-8cc4-44cf-b2e6-e682fd9abd2f",
   "metadata": {},
   "outputs": [
    {
     "ename": "KeyError",
     "evalue": "'label'",
     "output_type": "error",
     "traceback": [
      "\u001b[0;31m---------------------------------------------------------------------------\u001b[0m",
      "\u001b[0;31mKeyError\u001b[0m                                  Traceback (most recent call last)",
      "File \u001b[0;32m~/.local/lib/python3.10/site-packages/pandas/core/indexes/base.py:3361\u001b[0m, in \u001b[0;36mIndex.get_loc\u001b[0;34m(self, key, method, tolerance)\u001b[0m\n\u001b[1;32m   3360\u001b[0m \u001b[38;5;28;01mtry\u001b[39;00m:\n\u001b[0;32m-> 3361\u001b[0m     \u001b[38;5;28;01mreturn\u001b[39;00m \u001b[38;5;28;43mself\u001b[39;49m\u001b[38;5;241;43m.\u001b[39;49m\u001b[43m_engine\u001b[49m\u001b[38;5;241;43m.\u001b[39;49m\u001b[43mget_loc\u001b[49m\u001b[43m(\u001b[49m\u001b[43mcasted_key\u001b[49m\u001b[43m)\u001b[49m\n\u001b[1;32m   3362\u001b[0m \u001b[38;5;28;01mexcept\u001b[39;00m \u001b[38;5;167;01mKeyError\u001b[39;00m \u001b[38;5;28;01mas\u001b[39;00m err:\n",
      "File \u001b[0;32m~/.local/lib/python3.10/site-packages/pandas/_libs/index.pyx:76\u001b[0m, in \u001b[0;36mpandas._libs.index.IndexEngine.get_loc\u001b[0;34m()\u001b[0m\n",
      "File \u001b[0;32m~/.local/lib/python3.10/site-packages/pandas/_libs/index.pyx:108\u001b[0m, in \u001b[0;36mpandas._libs.index.IndexEngine.get_loc\u001b[0;34m()\u001b[0m\n",
      "File \u001b[0;32mpandas/_libs/hashtable_class_helper.pxi:5198\u001b[0m, in \u001b[0;36mpandas._libs.hashtable.PyObjectHashTable.get_item\u001b[0;34m()\u001b[0m\n",
      "File \u001b[0;32mpandas/_libs/hashtable_class_helper.pxi:5206\u001b[0m, in \u001b[0;36mpandas._libs.hashtable.PyObjectHashTable.get_item\u001b[0;34m()\u001b[0m\n",
      "\u001b[0;31mKeyError\u001b[0m: 'label'",
      "\nThe above exception was the direct cause of the following exception:\n",
      "\u001b[0;31mKeyError\u001b[0m                                  Traceback (most recent call last)",
      "Cell \u001b[0;32mIn[15], line 1\u001b[0m\n\u001b[0;32m----> 1\u001b[0m \u001b[43mdf\u001b[49m\u001b[43m[\u001b[49m\u001b[38;5;124;43m'\u001b[39;49m\u001b[38;5;124;43mlabel\u001b[39;49m\u001b[38;5;124;43m'\u001b[39;49m\u001b[43m]\u001b[49m\u001b[38;5;241m.\u001b[39munique()\n",
      "File \u001b[0;32m~/.local/lib/python3.10/site-packages/pandas/core/frame.py:3458\u001b[0m, in \u001b[0;36mDataFrame.__getitem__\u001b[0;34m(self, key)\u001b[0m\n\u001b[1;32m   3456\u001b[0m \u001b[38;5;28;01mif\u001b[39;00m \u001b[38;5;28mself\u001b[39m\u001b[38;5;241m.\u001b[39mcolumns\u001b[38;5;241m.\u001b[39mnlevels \u001b[38;5;241m>\u001b[39m \u001b[38;5;241m1\u001b[39m:\n\u001b[1;32m   3457\u001b[0m     \u001b[38;5;28;01mreturn\u001b[39;00m \u001b[38;5;28mself\u001b[39m\u001b[38;5;241m.\u001b[39m_getitem_multilevel(key)\n\u001b[0;32m-> 3458\u001b[0m indexer \u001b[38;5;241m=\u001b[39m \u001b[38;5;28;43mself\u001b[39;49m\u001b[38;5;241;43m.\u001b[39;49m\u001b[43mcolumns\u001b[49m\u001b[38;5;241;43m.\u001b[39;49m\u001b[43mget_loc\u001b[49m\u001b[43m(\u001b[49m\u001b[43mkey\u001b[49m\u001b[43m)\u001b[49m\n\u001b[1;32m   3459\u001b[0m \u001b[38;5;28;01mif\u001b[39;00m is_integer(indexer):\n\u001b[1;32m   3460\u001b[0m     indexer \u001b[38;5;241m=\u001b[39m [indexer]\n",
      "File \u001b[0;32m~/.local/lib/python3.10/site-packages/pandas/core/indexes/base.py:3363\u001b[0m, in \u001b[0;36mIndex.get_loc\u001b[0;34m(self, key, method, tolerance)\u001b[0m\n\u001b[1;32m   3361\u001b[0m         \u001b[38;5;28;01mreturn\u001b[39;00m \u001b[38;5;28mself\u001b[39m\u001b[38;5;241m.\u001b[39m_engine\u001b[38;5;241m.\u001b[39mget_loc(casted_key)\n\u001b[1;32m   3362\u001b[0m     \u001b[38;5;28;01mexcept\u001b[39;00m \u001b[38;5;167;01mKeyError\u001b[39;00m \u001b[38;5;28;01mas\u001b[39;00m err:\n\u001b[0;32m-> 3363\u001b[0m         \u001b[38;5;28;01mraise\u001b[39;00m \u001b[38;5;167;01mKeyError\u001b[39;00m(key) \u001b[38;5;28;01mfrom\u001b[39;00m \u001b[38;5;21;01merr\u001b[39;00m\n\u001b[1;32m   3365\u001b[0m \u001b[38;5;28;01mif\u001b[39;00m is_scalar(key) \u001b[38;5;129;01mand\u001b[39;00m isna(key) \u001b[38;5;129;01mand\u001b[39;00m \u001b[38;5;129;01mnot\u001b[39;00m \u001b[38;5;28mself\u001b[39m\u001b[38;5;241m.\u001b[39mhasnans:\n\u001b[1;32m   3366\u001b[0m     \u001b[38;5;28;01mraise\u001b[39;00m \u001b[38;5;167;01mKeyError\u001b[39;00m(key)\n",
      "\u001b[0;31mKeyError\u001b[0m: 'label'"
     ]
    }
   ],
   "source": [
    "df['label'].unique()"
   ]
  },
  {
   "cell_type": "code",
   "execution_count": 16,
   "id": "1050a1cd-82bd-4e49-bf1b-e2c81fa9b6b0",
   "metadata": {},
   "outputs": [
    {
     "data": {
      "text/html": [
       "<div>\n",
       "<style scoped>\n",
       "    .dataframe tbody tr th:only-of-type {\n",
       "        vertical-align: middle;\n",
       "    }\n",
       "\n",
       "    .dataframe tbody tr th {\n",
       "        vertical-align: top;\n",
       "    }\n",
       "\n",
       "    .dataframe thead th {\n",
       "        text-align: right;\n",
       "    }\n",
       "</style>\n",
       "<table border=\"1\" class=\"dataframe\">\n",
       "  <thead>\n",
       "    <tr style=\"text-align: right;\">\n",
       "      <th></th>\n",
       "      <th>Unnamed: 0</th>\n",
       "      <th>enmoTrunc</th>\n",
       "      <th>enmoAbs</th>\n",
       "      <th>xMean</th>\n",
       "      <th>yMean</th>\n",
       "      <th>zMean</th>\n",
       "      <th>xRange</th>\n",
       "      <th>yRange</th>\n",
       "      <th>zRange</th>\n",
       "      <th>xStd</th>\n",
       "      <th>...</th>\n",
       "      <th>totalPower</th>\n",
       "      <th>temp</th>\n",
       "      <th>samples</th>\n",
       "      <th>dataErrors</th>\n",
       "      <th>clipsBeforeCalibr</th>\n",
       "      <th>clipsAfterCalibr</th>\n",
       "      <th>rawSamples</th>\n",
       "      <th>participant</th>\n",
       "      <th>MET</th>\n",
       "      <th>annotation</th>\n",
       "    </tr>\n",
       "  </thead>\n",
       "  <tbody>\n",
       "    <tr>\n",
       "      <th>0</th>\n",
       "      <td>0</td>\n",
       "      <td>0.001423</td>\n",
       "      <td>0.003816</td>\n",
       "      <td>-0.166901</td>\n",
       "      <td>-0.484580</td>\n",
       "      <td>0.857529</td>\n",
       "      <td>0.030880</td>\n",
       "      <td>0.031312</td>\n",
       "      <td>0.031563</td>\n",
       "      <td>0.002064</td>\n",
       "      <td>...</td>\n",
       "      <td>-13.849006</td>\n",
       "      <td>0.0</td>\n",
       "      <td>3000</td>\n",
       "      <td>0</td>\n",
       "      <td>0</td>\n",
       "      <td>0</td>\n",
       "      <td>3001</td>\n",
       "      <td>15.0</td>\n",
       "      <td>0.95</td>\n",
       "      <td>sleep</td>\n",
       "    </tr>\n",
       "    <tr>\n",
       "      <th>1</th>\n",
       "      <td>1</td>\n",
       "      <td>0.001348</td>\n",
       "      <td>0.003484</td>\n",
       "      <td>-0.178192</td>\n",
       "      <td>-0.483312</td>\n",
       "      <td>0.856078</td>\n",
       "      <td>0.108079</td>\n",
       "      <td>0.062623</td>\n",
       "      <td>0.047344</td>\n",
       "      <td>0.012771</td>\n",
       "      <td>...</td>\n",
       "      <td>-13.512001</td>\n",
       "      <td>0.0</td>\n",
       "      <td>3000</td>\n",
       "      <td>0</td>\n",
       "      <td>0</td>\n",
       "      <td>0</td>\n",
       "      <td>3002</td>\n",
       "      <td>15.0</td>\n",
       "      <td>0.95</td>\n",
       "      <td>sleep</td>\n",
       "    </tr>\n",
       "    <tr>\n",
       "      <th>2</th>\n",
       "      <td>2</td>\n",
       "      <td>0.003601</td>\n",
       "      <td>0.007880</td>\n",
       "      <td>-0.154394</td>\n",
       "      <td>-0.423471</td>\n",
       "      <td>0.863931</td>\n",
       "      <td>1.173425</td>\n",
       "      <td>0.438355</td>\n",
       "      <td>0.599680</td>\n",
       "      <td>0.174307</td>\n",
       "      <td>...</td>\n",
       "      <td>-12.608712</td>\n",
       "      <td>0.0</td>\n",
       "      <td>3000</td>\n",
       "      <td>0</td>\n",
       "      <td>0</td>\n",
       "      <td>0</td>\n",
       "      <td>3002</td>\n",
       "      <td>15.0</td>\n",
       "      <td>0.95</td>\n",
       "      <td>sleep</td>\n",
       "    </tr>\n",
       "    <tr>\n",
       "      <th>3</th>\n",
       "      <td>3</td>\n",
       "      <td>0.004124</td>\n",
       "      <td>0.007625</td>\n",
       "      <td>0.122261</td>\n",
       "      <td>-0.335273</td>\n",
       "      <td>0.924189</td>\n",
       "      <td>0.926388</td>\n",
       "      <td>0.313111</td>\n",
       "      <td>0.426089</td>\n",
       "      <td>0.134946</td>\n",
       "      <td>...</td>\n",
       "      <td>-13.642994</td>\n",
       "      <td>0.0</td>\n",
       "      <td>3000</td>\n",
       "      <td>0</td>\n",
       "      <td>0</td>\n",
       "      <td>0</td>\n",
       "      <td>3002</td>\n",
       "      <td>15.0</td>\n",
       "      <td>0.95</td>\n",
       "      <td>sleep</td>\n",
       "    </tr>\n",
       "    <tr>\n",
       "      <th>4</th>\n",
       "      <td>4</td>\n",
       "      <td>0.001921</td>\n",
       "      <td>0.002880</td>\n",
       "      <td>0.158215</td>\n",
       "      <td>-0.332628</td>\n",
       "      <td>0.930696</td>\n",
       "      <td>0.030880</td>\n",
       "      <td>0.031312</td>\n",
       "      <td>0.031563</td>\n",
       "      <td>0.003275</td>\n",
       "      <td>...</td>\n",
       "      <td>-14.460284</td>\n",
       "      <td>0.0</td>\n",
       "      <td>3000</td>\n",
       "      <td>0</td>\n",
       "      <td>0</td>\n",
       "      <td>0</td>\n",
       "      <td>3002</td>\n",
       "      <td>15.0</td>\n",
       "      <td>0.95</td>\n",
       "      <td>sleep</td>\n",
       "    </tr>\n",
       "  </tbody>\n",
       "</table>\n",
       "<p>5 rows × 73 columns</p>\n",
       "</div>"
      ],
      "text/plain": [
       "   Unnamed: 0  enmoTrunc   enmoAbs     xMean     yMean     zMean    xRange  \\\n",
       "0           0   0.001423  0.003816 -0.166901 -0.484580  0.857529  0.030880   \n",
       "1           1   0.001348  0.003484 -0.178192 -0.483312  0.856078  0.108079   \n",
       "2           2   0.003601  0.007880 -0.154394 -0.423471  0.863931  1.173425   \n",
       "3           3   0.004124  0.007625  0.122261 -0.335273  0.924189  0.926388   \n",
       "4           4   0.001921  0.002880  0.158215 -0.332628  0.930696  0.030880   \n",
       "\n",
       "     yRange    zRange      xStd  ...  totalPower  temp  samples  dataErrors  \\\n",
       "0  0.031312  0.031563  0.002064  ...  -13.849006   0.0     3000           0   \n",
       "1  0.062623  0.047344  0.012771  ...  -13.512001   0.0     3000           0   \n",
       "2  0.438355  0.599680  0.174307  ...  -12.608712   0.0     3000           0   \n",
       "3  0.313111  0.426089  0.134946  ...  -13.642994   0.0     3000           0   \n",
       "4  0.031312  0.031563  0.003275  ...  -14.460284   0.0     3000           0   \n",
       "\n",
       "   clipsBeforeCalibr  clipsAfterCalibr  rawSamples  participant   MET  \\\n",
       "0                  0                 0        3001         15.0  0.95   \n",
       "1                  0                 0        3002         15.0  0.95   \n",
       "2                  0                 0        3002         15.0  0.95   \n",
       "3                  0                 0        3002         15.0  0.95   \n",
       "4                  0                 0        3002         15.0  0.95   \n",
       "\n",
       "   annotation  \n",
       "0       sleep  \n",
       "1       sleep  \n",
       "2       sleep  \n",
       "3       sleep  \n",
       "4       sleep  \n",
       "\n",
       "[5 rows x 73 columns]"
      ]
     },
     "execution_count": 16,
     "metadata": {},
     "output_type": "execute_result"
    }
   ],
   "source": [
    "df.head()"
   ]
  },
  {
   "cell_type": "code",
   "execution_count": 13,
   "id": "f497219b-2751-4d36-8266-e4a2427ff178",
   "metadata": {},
   "outputs": [],
   "source": [
    "df.to_csv(\"/home/aayush/accelerometer/accProcess_original_with_annotation.csv\")"
   ]
  },
  {
   "cell_type": "code",
   "execution_count": 14,
   "id": "4977c907-cd23-44e9-9e1d-97fdf6366e54",
   "metadata": {},
   "outputs": [],
   "source": [
    "df = pd.read_csv(\"/home/aayush/accelerometer/accProcess_original_with_annotation.csv\")"
   ]
  },
  {
   "cell_type": "code",
   "execution_count": 55,
   "id": "a6c87096-ceda-4f98-b04b-192a8b124037",
   "metadata": {},
   "outputs": [
    {
     "name": "stdout",
     "output_type": "stream",
     "text": [
      "       enmoTrunc   enmoAbs     xMean     yMean     zMean    xRange    yRange  \\\n",
      "0       0.001423  0.003816 -0.166901 -0.484580  0.857529  0.030880  0.031312   \n",
      "1       0.001348  0.003484 -0.178192 -0.483312  0.856078  0.108079  0.062623   \n",
      "2       0.003601  0.007880 -0.154394 -0.423471  0.863931  1.173425  0.438355   \n",
      "3       0.004124  0.007625  0.122261 -0.335273  0.924189  0.926388  0.313111   \n",
      "4       0.001921  0.002880  0.158215 -0.332628  0.930696  0.030880  0.031312   \n",
      "...          ...       ...       ...       ...       ...       ...       ...   \n",
      "22044   0.001538  0.003173  0.381244 -0.286702  0.878750  0.031672  0.015713   \n",
      "22045   0.001451  0.003161  0.381158 -0.287136  0.878465  0.031672  0.015713   \n",
      "22046   0.001329  0.002995  0.381127 -0.287960  0.878126  0.031672  0.015713   \n",
      "22047   0.001350  0.002940  0.381185 -0.288220  0.878127  0.031672  0.015713   \n",
      "22048   0.001283  0.002939  0.381045 -0.288785  0.877854  0.031672  0.015713   \n",
      "\n",
      "         zRange      xStd      yStd  ...         p2      f625       p625  \\\n",
      "0      0.031563  0.002064  0.003589  ... -17.306763  1.133334 -17.815211   \n",
      "1      0.047344  0.012771  0.006186  ... -17.244057  1.166667 -17.478047   \n",
      "2      0.599680  0.174307  0.117852  ... -16.228117  1.100000 -15.930758   \n",
      "3      0.426089  0.134946  0.025022  ... -17.480331  0.866667 -17.486856   \n",
      "4      0.031563  0.003275  0.006807  ... -17.877266  2.466667 -18.172341   \n",
      "...         ...       ...       ...  ...        ...       ...        ...   \n",
      "22044  0.031784  0.001116  0.006818  ... -17.551460  0.733334 -17.900474   \n",
      "22045  0.032599  0.001230  0.006548  ... -17.760834  1.500000 -17.760834   \n",
      "22046  0.016708  0.001422  0.005917  ... -17.802313  2.033334 -17.817539   \n",
      "22047  0.032599  0.001407  0.005691  ... -17.832826  1.466667 -17.728643   \n",
      "22048  0.031784  0.001270  0.005074  ... -17.646748  1.233334 -17.646748   \n",
      "\n",
      "       totalPower  temp  samples  dataErrors  clipsBeforeCalibr  \\\n",
      "0      -13.849006   0.0     3000           0                  0   \n",
      "1      -13.512001   0.0     3000           0                  0   \n",
      "2      -12.608712   0.0     3000           0                  0   \n",
      "3      -13.642994   0.0     3000           0                  0   \n",
      "4      -14.460284   0.0     3000           0                  0   \n",
      "...           ...   ...      ...         ...                ...   \n",
      "22044  -13.933843   0.0     3000           0                  0   \n",
      "22045  -13.998238   0.0     3000           0                  0   \n",
      "22046  -14.075251   0.0     3000           0                  0   \n",
      "22047  -14.084765   0.0     3000           0                  0   \n",
      "22048  -14.152301   0.0     3000           0                  0   \n",
      "\n",
      "       clipsAfterCalibr  rawSamples  \n",
      "0                     0        3001  \n",
      "1                     0        3002  \n",
      "2                     0        3002  \n",
      "3                     0        3002  \n",
      "4                     0        3002  \n",
      "...                 ...         ...  \n",
      "22044                 0        3002  \n",
      "22045                 0        3002  \n",
      "22046                 0        3002  \n",
      "22047                 0        3002  \n",
      "22048                 0        3002  \n",
      "\n",
      "[6360 rows x 69 columns]\n",
      "['sleep' 'walking' 'vehicle' 'sit-stand' 'mixed' 'bicycling']\n"
     ]
    }
   ],
   "source": [
    "test_features_df = df[df[\"participant\"].isin([15.0, 3.0])].iloc[:, :-4]\n",
    "test_labels_df = df[df[\"participant\"].isin([15.0, 3.0])][\"annotation\"]\n",
    "\n",
    "print(test_features_df)\n",
    "print(test_labels_df.unique())"
   ]
  },
  {
   "cell_type": "code",
   "execution_count": 56,
   "id": "18a8c635-3eef-4bd2-9b78-326fbc5cd19a",
   "metadata": {},
   "outputs": [
    {
     "name": "stdout",
     "output_type": "stream",
     "text": [
      "        enmoTrunc   enmoAbs     xMean     yMean     zMean    xRange    yRange  \\\n",
      "3120     0.000468  0.003644 -0.554207  0.217694 -0.800016  0.030874  0.031292   \n",
      "3121     0.003088  0.003645 -0.566165  0.217381 -0.798266  0.046311  0.031292   \n",
      "3122     0.003211  0.003708 -0.567642  0.217162 -0.797516  0.046311  0.031292   \n",
      "3123     0.003188  0.003617 -0.568156  0.216828 -0.797302  0.030874  0.031292   \n",
      "3124     0.003038  0.003544 -0.568095  0.216594 -0.797123  0.030874  0.031292   \n",
      "...           ...       ...       ...       ...       ...       ...       ...   \n",
      "462472   0.005676  0.005677 -0.673620 -0.325168 -0.672207  0.016061  0.031951   \n",
      "462473   0.006095  0.006095 -0.673528 -0.325300 -0.672869  0.031749  0.031951   \n",
      "462474   0.006277  0.006277 -0.673516 -0.325243 -0.673177  0.031377  0.031862   \n",
      "462475   0.006433  0.006433 -0.673527 -0.325302 -0.673372  0.015689  0.031862   \n",
      "462476   0.006875  0.006905 -0.673563 -0.325355 -0.673915  0.062754  0.031862   \n",
      "\n",
      "          zRange      xStd      yStd  ...         p2      f625       p625  \\\n",
      "3120    0.047168  0.004139  0.003721  ... -17.894718  1.733334 -17.938663   \n",
      "3121    0.031446  0.005744  0.003007  ... -17.691015  2.400000 -18.128938   \n",
      "3122    0.047168  0.003736  0.002813  ... -17.818596  1.500000 -18.009739   \n",
      "3123    0.047168  0.002384  0.002020  ... -18.005922  2.100000 -18.080169   \n",
      "3124    0.062891  0.002598  0.002681  ... -17.636834  0.833334 -17.846275   \n",
      "...          ...       ...       ...  ...        ...       ...        ...   \n",
      "462472  0.031783  0.002860  0.001905  ... -17.997103  1.233334 -18.010009   \n",
      "462473  0.031609  0.001870  0.001853  ... -17.843922  1.000000 -17.880621   \n",
      "462474  0.015805  0.001536  0.002012  ... -17.633888  1.000000 -17.974478   \n",
      "462475  0.031609  0.001535  0.001987  ... -17.762153  0.766667 -17.865765   \n",
      "462476  0.047413  0.003335  0.002298  ... -17.683984  0.633334 -17.722483   \n",
      "\n",
      "        totalPower  temp  samples  dataErrors  clipsBeforeCalibr  \\\n",
      "3120    -14.603224   0.0     3000           0                  0   \n",
      "3121    -14.253449   0.0     3000           0                  0   \n",
      "3122    -14.275880   0.0     3000           0                  0   \n",
      "3123    -14.650281   0.0     3000           0                  0   \n",
      "3124    -14.022184   0.0     3000           0                  0   \n",
      "...            ...   ...      ...         ...                ...   \n",
      "462472  -14.641620   0.0     3000           0                  0   \n",
      "462473  -14.247205   0.0     3000           0                  0   \n",
      "462474  -14.125420   0.0     3000           0                  0   \n",
      "462475  -14.076067   0.0     3000           0                  0   \n",
      "462476  -13.939634   0.0     3000           0                  0   \n",
      "\n",
      "        clipsAfterCalibr  rawSamples  \n",
      "3120                   0        3001  \n",
      "3121                   0        3002  \n",
      "3122                   0        3002  \n",
      "3123                   0        3002  \n",
      "3124                   0        3002  \n",
      "...                  ...         ...  \n",
      "462472                 0        3002  \n",
      "462473                 0        3002  \n",
      "462474                 0        3002  \n",
      "462475                 0        3002  \n",
      "462476                 0        3002  \n",
      "\n",
      "[456117 rows x 69 columns]\n",
      "3120          sleep\n",
      "3121      sit-stand\n",
      "3122      sit-stand\n",
      "3123      sit-stand\n",
      "3124      sit-stand\n",
      "            ...    \n",
      "462472        sleep\n",
      "462473        sleep\n",
      "462474        sleep\n",
      "462475        sleep\n",
      "462476        sleep\n",
      "Name: annotation, Length: 456117, dtype: object\n"
     ]
    }
   ],
   "source": [
    "train_features_df = df[~df[\"participant\"].isin([15.0, 3.0])].iloc[:, :-4]\n",
    "train_labels_predict = df[~df[\"participant\"].isin([15.0, 3.0])][\"annotation\"]\n",
    "\n",
    "print(train_features_df)\n",
    "print(train_labels_predict)"
   ]
  },
  {
   "cell_type": "code",
   "execution_count": 57,
   "id": "73a087d5-a46a-4a7a-b371-8399e68020b0",
   "metadata": {},
   "outputs": [],
   "source": [
    "def _Model(**kwargs):\n",
    "    return BalancedRandomForestClassifier(\n",
    "        n_estimators=1000,\n",
    "        max_depth=10,\n",
    "        min_samples_leaf=1,\n",
    "        replacement=True,\n",
    "        sampling_strategy='not minority',\n",
    "        random_state=42,\n",
    "        **kwargs\n",
    "    )"
   ]
  },
  {
   "cell_type": "code",
   "execution_count": 58,
   "id": "88d57b44-78bb-4065-8938-461236c046d0",
   "metadata": {},
   "outputs": [
    {
     "name": "stdout",
     "output_type": "stream",
     "text": [
      "Training...\n"
     ]
    },
    {
     "name": "stderr",
     "output_type": "stream",
     "text": [
      "[Parallel(n_jobs=10)]: Using backend ThreadingBackend with 10 concurrent workers.\n",
      "[Parallel(n_jobs=10)]: Done  30 tasks      | elapsed:    2.7s\n",
      "[Parallel(n_jobs=10)]: Done 180 tasks      | elapsed:   14.0s\n",
      "[Parallel(n_jobs=10)]: Done 430 tasks      | elapsed:   32.3s\n",
      "[Parallel(n_jobs=10)]: Done 780 tasks      | elapsed:   57.8s\n",
      "[Parallel(n_jobs=10)]: Done 1000 out of 1000 | elapsed:  1.2min finished\n"
     ]
    }
   ],
   "source": [
    "from imblearn.ensemble import BalancedRandomForestClassifier\n",
    "\n",
    "print('Training...')\n",
    "model = _Model(n_jobs=10, verbose=1)\n",
    "model = model.fit(train_features_df, train_labels_predict)\n",
    "model.verbose = 0  # silence future calls to .predict()\n",
    "labels = model.classes_"
   ]
  },
  {
   "cell_type": "code",
   "execution_count": 59,
   "id": "b2871c93-f583-41dc-99e1-d8c9237f62ee",
   "metadata": {},
   "outputs": [
    {
     "name": "stdout",
     "output_type": "stream",
     "text": [
      "['bicycling' 'mixed' 'sit-stand' 'sleep' 'vehicle' 'walking']\n",
      "456117\n",
      "456117\n"
     ]
    }
   ],
   "source": [
    "print(labels)\n",
    "pid = df[~df[\"participant\"].isin([15.0, 3.0])][\"participant\"].to_numpy()\n",
    "print(len(pid))\n",
    "print(len(train_labels_predict))"
   ]
  },
  {
   "cell_type": "code",
   "execution_count": 60,
   "id": "d4bbd643-5918-43e2-ad80-55f5c1abd0f2",
   "metadata": {},
   "outputs": [],
   "source": [
    "def saveToTar(tarOut, **kwargs):\n",
    "    \"\"\"Save objects to tar file. Objects must be passed as keyworded arguments,\n",
    "    then the key is used for the object name in the tar file.\n",
    "\n",
    "    :param **kwargs: Objects to be saved passed as keyworded arguments.\n",
    "\n",
    "    :return: tar file written to <tarOut>\n",
    "    :rtype: void\n",
    "    \"\"\"\n",
    "\n",
    "    try:\n",
    "\n",
    "        tmpdir = tempfile.mkdtemp()\n",
    "\n",
    "        with tarfile.open(tarOut, mode='w') as tf:\n",
    "\n",
    "            for key, val in kwargs.items():\n",
    "                pth = os.path.join(tmpdir, key)\n",
    "                joblib.dump(val, pth, compress=True)\n",
    "                tf.add(pth, arcname=key)\n",
    "\n",
    "        print('Models saved to', tarOut)\n",
    "\n",
    "    finally:\n",
    "\n",
    "        try:\n",
    "            shutil.rmtree(tmpdir)\n",
    "        except OSError as e:\n",
    "            print(\"Error: %s - %s.\" % (e.filename, e.strerror))\n",
    "\n",
    "\n",
    "def getFileFromTar(tarArchive, targetFile):\n",
    "    \"\"\"Read file from tar\n",
    "\n",
    "    This is currently more tricky than it should be see\n",
    "    https://github.com/numpy/numpy/issues/7989\n",
    "\n",
    "    :param str tarArchive: Input tarfile object\n",
    "    :param str targetFile: Target individual file within .tar\n",
    "\n",
    "    :return: file object byte stream\n",
    "    :rtype: object\n",
    "    \"\"\"\n",
    "\n",
    "    with tarfile.open(tarArchive, 'r') as t:\n",
    "        b = BytesIO()\n",
    "        try:\n",
    "            b.write(t.extractfile(targetFile).read())\n",
    "        except KeyError:\n",
    "            return None\n",
    "        b.seek(0)\n",
    "\n",
    "    return b\n",
    "\n",
    "\n",
    "def trainHMM(Y_prob, Y_true, labels=None, uniform_prior=True):\n",
    "    \"\"\" https://en.wikipedia.org/wiki/Hidden_Markov_model\n",
    "\n",
    "    :return: Dictionary containing prior, emission and transition\n",
    "        matrices, and corresponding labels.\n",
    "    :rtype: dict\n",
    "\n",
    "    \"\"\"\n",
    "\n",
    "    if labels is None:\n",
    "        labels = np.unique(Y_true)\n",
    "\n",
    "    if uniform_prior:\n",
    "        # All labels with equal probability\n",
    "        prior = np.ones(len(labels)) / len(labels)\n",
    "    else:\n",
    "        # Label probability equals empirical rate\n",
    "        prior = np.mean(Y_true.reshape(-1, 1) == labels, axis=0)\n",
    "\n",
    "    emission = np.vstack(\n",
    "        [np.mean(Y_prob[Y_true == label], axis=0) for label in labels]\n",
    "    )\n",
    "    transition = np.vstack(\n",
    "        [np.mean(Y_true[1:][(Y_true == label)[:-1]].reshape(-1, 1) == labels, axis=0)\n",
    "            for label in labels]\n",
    "    )\n",
    "\n",
    "    params = {'prior': prior, 'emission': emission, 'transition': transition, 'labels': labels}\n",
    "\n",
    "    return params"
   ]
  },
  {
   "cell_type": "code",
   "execution_count": 61,
   "id": "3b97bf4c-9a3b-474f-a55e-43e9b8cf6f53",
   "metadata": {},
   "outputs": [
    {
     "name": "stdout",
     "output_type": "stream",
     "text": [
      "Cross-predicting to derive the observations for HMM...\n"
     ]
    },
    {
     "name": "stderr",
     "output_type": "stream",
     "text": [
      "[Parallel(n_jobs=5)]: Using backend LokyBackend with 5 concurrent workers.\n",
      "[Parallel(n_jobs=5)]: Done   5 out of  10 | elapsed:  2.2min remaining:  2.2min\n",
      "[Parallel(n_jobs=5)]: Done  10 out of  10 | elapsed:  4.5min finished\n"
     ]
    }
   ],
   "source": [
    "from sklearn.model_selection import cross_val_predict, cross_val_score\n",
    "import numpy as np\n",
    "\n",
    "print('Cross-predicting to derive the observations for HMM...')\n",
    "\n",
    "NJOBS_PER_CV_MODEL = min(2, 10)\n",
    "cvp = cross_val_predict(\n",
    "    _Model(n_jobs=NJOBS_PER_CV_MODEL), train_features_df, train_labels_predict, groups=pid,\n",
    "    cv=10,\n",
    "    n_jobs=10 // NJOBS_PER_CV_MODEL,\n",
    "    method=\"predict_proba\",\n",
    "    verbose=3,\n",
    ")"
   ]
  },
  {
   "cell_type": "code",
   "execution_count": 62,
   "id": "5a9580ae-7fc6-4e32-a823-c1148e0bce75",
   "metadata": {},
   "outputs": [
    {
     "data": {
      "text/plain": [
       "array(['bicycling', 'mixed', 'sit-stand', 'sleep', 'vehicle', 'walking'],\n",
       "      dtype=object)"
      ]
     },
     "execution_count": 62,
     "metadata": {},
     "output_type": "execute_result"
    }
   ],
   "source": [
    "labels"
   ]
  },
  {
   "cell_type": "code",
   "execution_count": 63,
   "id": "4c601f0f-4620-48c8-a199-5cbcb8dee04b",
   "metadata": {},
   "outputs": [
    {
     "name": "stdout",
     "output_type": "stream",
     "text": [
      "Training HMM...\n"
     ]
    }
   ],
   "source": [
    "print('Training HMM...')\n",
    "train_labels_predict_array = np.array(train_labels_predict)\n",
    "hmmParams = trainHMM(cvp,  train_labels_predict_array)"
   ]
  },
  {
   "cell_type": "code",
   "execution_count": 64,
   "id": "032fcb6d-744c-48f2-a742-66dc7c4c454c",
   "metadata": {},
   "outputs": [
    {
     "data": {
      "text/plain": [
       "{'prior': array([0.16666667, 0.16666667, 0.16666667, 0.16666667, 0.16666667,\n",
       "        0.16666667]),\n",
       " 'emission': array([[0.15521078, 0.16979104, 0.17052532, 0.1732728 , 0.16172553,\n",
       "         0.16947453],\n",
       "        [0.15623009, 0.16607333, 0.17150606, 0.17277507, 0.16422867,\n",
       "         0.16918678],\n",
       "        [0.1556642 , 0.16944568, 0.17008253, 0.17189045, 0.16371333,\n",
       "         0.16920382],\n",
       "        [0.15427158, 0.16910604, 0.17078262, 0.17210388, 0.16401082,\n",
       "         0.16972506],\n",
       "        [0.15413071, 0.17030559, 0.17129961, 0.17388957, 0.16045214,\n",
       "         0.16992239],\n",
       "        [0.15558615, 0.16898607, 0.17091793, 0.17271997, 0.16374463,\n",
       "         0.16804524]]),\n",
       " 'transition': array([[9.55547112e-01, 6.07902736e-03, 3.79939210e-03, 0.00000000e+00,\n",
       "         0.00000000e+00, 3.45744681e-02],\n",
       "        [5.54141696e-04, 9.84340366e-01, 1.34020195e-02, 3.48904031e-04,\n",
       "         9.44093260e-04, 4.10475330e-04],\n",
       "        [6.95398202e-05, 3.64504558e-03, 9.85906596e-01, 1.13581706e-03,\n",
       "         4.28828891e-04, 8.81417222e-03],\n",
       "        [0.00000000e+00, 2.27345344e-04, 8.90947969e-04, 9.98525328e-01,\n",
       "         0.00000000e+00, 3.56379187e-04],\n",
       "        [0.00000000e+00, 2.87145650e-03, 2.87145650e-03, 0.00000000e+00,\n",
       "         9.74706745e-01, 1.95503421e-02],\n",
       "        [3.86528970e-03, 3.56795972e-04, 3.10610716e-02, 5.35193958e-04,\n",
       "         5.82766755e-03, 9.58353981e-01]]),\n",
       " 'labels': array(['bicycling', 'mixed', 'sit-stand', 'sleep', 'vehicle', 'walking'],\n",
       "       dtype=object)}"
      ]
     },
     "execution_count": 64,
     "metadata": {},
     "output_type": "execute_result"
    }
   ],
   "source": [
    "hmmParams"
   ]
  },
  {
   "cell_type": "code",
   "execution_count": 65,
   "id": "c21fc588-9178-4c90-ac79-755710da3db0",
   "metadata": {},
   "outputs": [
    {
     "name": "stdout",
     "output_type": "stream",
     "text": [
      "Models saved to /home/aayush/accelerometer/custom_model/model.tar\n",
      "Output trained model written to: /home/aayush/accelerometer/custom_model/model.tar\n"
     ]
    }
   ],
   "source": [
    "import os\n",
    "import tempfile\n",
    "import shutil\n",
    "import joblib\n",
    "import tarfile\n",
    "\n",
    "featureCols = np.array(train_features_df.columns)\n",
    "# Write model to file\n",
    "outFile = os.path.join(\"/home/aayush/accelerometer/custom_model\", 'model.tar')\n",
    "saveToTar(outFile,\n",
    "          model=model,\n",
    "          labels=labels,\n",
    "          featureCols=featureCols,\n",
    "          hmmParams=hmmParams)\n",
    "print(f'Output trained model written to: {outFile}')"
   ]
  },
  {
   "cell_type": "code",
   "execution_count": 66,
   "id": "8995be60-3bec-4094-822d-e666732d780f",
   "metadata": {},
   "outputs": [
    {
     "name": "stdout",
     "output_type": "stream",
     "text": [
      "xMean          0.045498\n",
      "yMean          0.039204\n",
      "zMean          0.038496\n",
      "avgArmAngel    0.037697\n",
      "pitchg         0.037644\n",
      "yawg           0.035130\n",
      "rollg          0.031321\n",
      "xRange         0.026077\n",
      "enmoAbs        0.019157\n",
      "enmoTrunc      0.018886\n",
      "yRange         0.018559\n",
      "zRange         0.018068\n",
      "skew           0.017881\n",
      "corrxy         0.017658\n",
      "kurt           0.016948\n",
      "avgyaw         0.016546\n",
      "MAD            0.015962\n",
      "entropy        0.015924\n",
      "xStd           0.015363\n",
      "avgroll        0.015347\n",
      "avgpitch       0.015332\n",
      "zStd           0.015115\n",
      "corrxz         0.015056\n",
      "sdyaw          0.015010\n",
      "yStd           0.014439\n",
      "p625           0.013943\n",
      "totalPower     0.013451\n",
      "p1             0.013387\n",
      "p2             0.013330\n",
      "corryz         0.013061\n",
      "dtype: float64\n"
     ]
    }
   ],
   "source": [
    "# Display feature importances\n",
    "feature_importances = pd.Series(model.feature_importances_, index=df.columns[:-4])\n",
    "print(feature_importances.nlargest(30))  # Show the top 20 features"
   ]
  },
  {
   "cell_type": "code",
   "execution_count": 67,
   "id": "09c382ec-c3e6-4413-849c-c471a950a39a",
   "metadata": {},
   "outputs": [
    {
     "name": "stdout",
     "output_type": "stream",
     "text": [
      "              precision    recall  f1-score   support\n",
      "\n",
      "   bicycling       0.03      0.35      0.05       160\n",
      "       mixed       0.32      0.39      0.35      1030\n",
      "   sit-stand       0.32      0.12      0.17      1735\n",
      "       sleep       0.76      0.57      0.65      2356\n",
      "     vehicle       0.10      0.13      0.11       272\n",
      "     walking       0.09      0.04      0.06       807\n",
      "\n",
      "    accuracy                           0.33      6360\n",
      "   macro avg       0.27      0.27      0.23      6360\n",
      "weighted avg       0.44      0.33      0.36      6360\n",
      "\n"
     ]
    }
   ],
   "source": [
    "import sklearn.metrics as metrics\n",
    "\n",
    "# test the performance\n",
    "Y_labels_test_pred = model.predict(test_features_df)\n",
    "print(metrics.classification_report(test_labels_df, Y_labels_test_pred))"
   ]
  },
  {
   "cell_type": "code",
   "execution_count": 68,
   "id": "29b4dbb5-2c68-4d94-a356-13fe439d112e",
   "metadata": {},
   "outputs": [
    {
     "name": "stdout",
     "output_type": "stream",
     "text": [
      "Score: 0.23\n"
     ]
    }
   ],
   "source": [
    "testScore = metrics.f1_score(test_labels_df, Y_labels_test_pred, average='macro', zero_division=0)\n",
    "print(f'Score: {testScore:.2f}')"
   ]
  },
  {
   "cell_type": "code",
   "execution_count": 69,
   "id": "e1f50971-8d52-44f4-bcae-2ef53af914cd",
   "metadata": {},
   "outputs": [],
   "source": [
    "def viterbi(Y_obs, hmm_params):\n",
    "    \"\"\" Perform HMM smoothing over observations via Viteri algorithm\n",
    "\n",
    "    https://en.wikipedia.org/wiki/Viterbi_algorithm\n",
    "\n",
    "    :param dict hmm_params: Dictionary containing prior, emission and transition\n",
    "        matrices, and corresponding labels\n",
    "\n",
    "    :return: Smoothed sequence of activities\n",
    "    :rtype: numpy.array\n",
    "    \"\"\"\n",
    "\n",
    "    def log(x):\n",
    "        SMALL_NUMBER = 1e-16\n",
    "        return np.log(x + SMALL_NUMBER)\n",
    "\n",
    "    prior = hmm_params['prior']\n",
    "    emission = hmm_params['emission']\n",
    "    transition = hmm_params['transition']\n",
    "    labels = hmm_params['labels']\n",
    "\n",
    "    nobs = len(Y_obs)\n",
    "    nlabels = len(labels)\n",
    "\n",
    "    Y_obs = np.where(Y_obs.reshape(-1, 1) == labels)[1]  # to numeric\n",
    "\n",
    "    probs = np.zeros((nobs, nlabels))\n",
    "    probs[0, :] = log(prior) + log(emission[:, Y_obs[0]])\n",
    "    for j in range(1, nobs):\n",
    "        for i in range(nlabels):\n",
    "            probs[j, i] = np.max(\n",
    "                log(emission[i, Y_obs[j]]) +\n",
    "                log(transition[:, i]) +\n",
    "                probs[j - 1, :])  # probs already in log scale\n",
    "    viterbi_path = np.zeros_like(Y_obs)\n",
    "    viterbi_path[-1] = np.argmax(probs[-1, :])\n",
    "    for j in reversed(range(nobs - 1)):\n",
    "        viterbi_path[j] = np.argmax(\n",
    "            log(transition[:, viterbi_path[j + 1]]) +\n",
    "            probs[j, :])  # probs already in log scale\n",
    "\n",
    "    viterbi_path = labels[viterbi_path]  # to labels\n",
    "\n",
    "    return viterbi_path"
   ]
  },
  {
   "cell_type": "code",
   "execution_count": 70,
   "id": "f0a4ab6f-4cac-4df9-bfdb-84afcc1b9754",
   "metadata": {},
   "outputs": [
    {
     "name": "stdout",
     "output_type": "stream",
     "text": [
      "\n",
      "Test performance (HMM):\n",
      "              precision    recall  f1-score   support\n",
      "\n",
      "   bicycling       0.00      0.00      0.00       160\n",
      "       mixed       0.00      0.00      0.00      1030\n",
      "   sit-stand       0.00      0.00      0.00      1735\n",
      "       sleep       0.37      1.00      0.54      2356\n",
      "     vehicle       0.00      0.00      0.00       272\n",
      "     walking       0.00      0.00      0.00       807\n",
      "\n",
      "    accuracy                           0.37      6360\n",
      "   macro avg       0.06      0.17      0.09      6360\n",
      "weighted avg       0.14      0.37      0.20      6360\n",
      "\n",
      "Score: 0.09\n"
     ]
    },
    {
     "name": "stderr",
     "output_type": "stream",
     "text": [
      "/home/aayush/.local/lib/python3.10/site-packages/sklearn/metrics/_classification.py:1318: UndefinedMetricWarning: Precision and F-score are ill-defined and being set to 0.0 in labels with no predicted samples. Use `zero_division` parameter to control this behavior.\n",
      "  _warn_prf(average, modifier, msg_start, len(result))\n",
      "/home/aayush/.local/lib/python3.10/site-packages/sklearn/metrics/_classification.py:1318: UndefinedMetricWarning: Precision and F-score are ill-defined and being set to 0.0 in labels with no predicted samples. Use `zero_division` parameter to control this behavior.\n",
      "  _warn_prf(average, modifier, msg_start, len(result))\n",
      "/home/aayush/.local/lib/python3.10/site-packages/sklearn/metrics/_classification.py:1318: UndefinedMetricWarning: Precision and F-score are ill-defined and being set to 0.0 in labels with no predicted samples. Use `zero_division` parameter to control this behavior.\n",
      "  _warn_prf(average, modifier, msg_start, len(result))\n"
     ]
    }
   ],
   "source": [
    "YpredHmm = viterbi(Y_labels_test_pred, hmmParams)\n",
    "\n",
    "print('\\nTest performance (HMM):')\n",
    "print(metrics.classification_report(test_labels_df, YpredHmm))\n",
    "testHmmScore = metrics.f1_score(test_labels_df, YpredHmm, average='macro', zero_division=0)\n",
    "print(f'Score: {testHmmScore:.2f}')"
   ]
  },
  {
   "cell_type": "code",
   "execution_count": null,
   "id": "cdf36985-4d63-4247-b187-4b9ca13dfb9f",
   "metadata": {},
   "outputs": [],
   "source": []
  }
 ],
 "metadata": {
  "kernelspec": {
   "display_name": "Python 3 (ipykernel)",
   "language": "python",
   "name": "python3"
  },
  "language_info": {
   "codemirror_mode": {
    "name": "ipython",
    "version": 3
   },
   "file_extension": ".py",
   "mimetype": "text/x-python",
   "name": "python",
   "nbconvert_exporter": "python",
   "pygments_lexer": "ipython3",
   "version": "3.10.12"
  }
 },
 "nbformat": 4,
 "nbformat_minor": 5
}
