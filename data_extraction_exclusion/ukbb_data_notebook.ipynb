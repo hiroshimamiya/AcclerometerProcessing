{
 "cells": [
  {
   "cell_type": "code",
   "execution_count": 14,
   "id": "9e1daf55-39cf-4083-8a35-ccfeb124540c",
   "metadata": {},
   "outputs": [],
   "source": [
    "\n",
    "# libraries\n",
    "import os\n",
    "import pandas as pd\n",
    "import numpy as np"
   ]
  },
  {
   "cell_type": "code",
   "execution_count": 15,
   "id": "885e5a1a-95e0-4da7-bfff-7a4114d9652c",
   "metadata": {},
   "outputs": [
    {
     "name": "stdout",
     "output_type": "stream",
     "text": [
      "/home/yalap95/current_df\n"
     ]
    }
   ],
   "source": [
    "\n",
    "# define path\n",
    "os.chdir('/home/yalap95/current_df')\n",
    "print(os.getcwd())"
   ]
  },
  {
   "cell_type": "markdown",
   "id": "eebb384d-45fe-40af-a2c3-ecfb27ccceb2",
   "metadata": {
    "tags": []
   },
   "source": [
    "# Creating the UKBB data table (full data)"
   ]
  },
  {
   "cell_type": "code",
   "execution_count": 16,
   "id": "7e038013-1969-4721-80c8-e92649c68a05",
   "metadata": {},
   "outputs": [],
   "source": [
    "\n",
    "current_df_full = pd.read_csv('current_subset_full.csv') # current_df_full demographic columns\n",
    "twi_full = pd.read_csv('townsend_full.csv') # townsend index column\n",
    "#c_ox = pd.read_csv('current_df_ox.csv')\n",
    "strokes_mi_full = pd.read_csv('strokes_mi_full.csv') # strokes and MI related columns\n",
    "\n",
    "current_subset_full_2 = pd.merge(current_df_full, twi_full, on='eid')\n",
    "\n",
    "current_subset_full_2.to_csv('/home/yalap95/current_df/current_subset_full_2.csv', index=False)\n",
    "\n",
    "\n",
    "# we merge all the dfs together based off the \"eid\"\n",
    "final_df_full = pd.merge(current_subset_full_2, strokes_mi_full, on='eid')\n",
    "final_df_full.to_csv('/home/yalap95/current_df/final_df/final_df_full.csv', index=False)"
   ]
  },
  {
   "cell_type": "code",
   "execution_count": 17,
   "id": "4d136c58-09f6-486b-8b48-fde75abdba30",
   "metadata": {},
   "outputs": [],
   "source": [
    "#print(current_df_full.info())"
   ]
  },
  {
   "cell_type": "code",
   "execution_count": 18,
   "id": "fd08f64d-8efd-4c11-8a71-dbeb79b7eede",
   "metadata": {},
   "outputs": [],
   "source": [
    "\n",
    "# we rename the columns so that they match the OxWearables RMD script\n",
    "\n",
    "field_list_aliases = {\n",
    "    \"eid\" : \"eid\",\n",
    "    \"31-0.0\" :  \"sex\",\n",
    "    \"52-0.0\" : \"month_birth\",\n",
    "    \"34-0.0\" : \"year_birth\",\n",
    "    \"54-1.0\" : \"ukb_assess_cent\",\n",
    "    \"21000-0.0\" : \"ethnicity_raw\",\n",
    "    \"22189-0.0\" : \"tdi_raw\",\n",
    "    \"6138-0.0\" : \"education_raw\",\n",
    "    \"845-0.0\" : \"age_education_raw\",\n",
    "    \"20116-0.0\" : \"smoking_raw\",\n",
    "    \"1558-0.0\" : \"alcohol_raw\",\n",
    "    \"21001-0.0\" : \"BMI_raw\",\n",
    "    \"90001-0.0\" : \"accel_raw\",\n",
    "    \"191-0.0\" : \"date_lost_followup\",\n",
    "    \"6150-0.0\" : \"self_report_cvd_baseline\",\n",
    "    \"6150-0.1\" : \"self_report_cvd_inst_1\",\n",
    "    \"6150-0.2\" : \"self_report_cvd_inst_2\",\n",
    "    \"53-0.0\" : \"date_baseline\",\n",
    "    \"53-1.0\" : \"date_inst_1\",\n",
    "    \"53-2.0\" : \"date_inst_2\",\n",
    "    \"90016-0.0\" : \"quality_good_calibration\",\n",
    "    \"90183-0.0\" : \"clips_before_cal\",\n",
    "    \"90185-0.0\" : \"clips_after_cal\",\n",
    "    \"90187-0.0\" : \"total_reads\",\n",
    "    \"90015-0.0\" : \"quality_good_wear_time\",\n",
    "    \"90012-0.0\" : \"overall_activity\",\n",
    "    \"90011-0.0\" : \"date_end_accel\",\n",
    "    \"1309-0.0\" : \"fresh_fruit\",\n",
    "    \"1289-0.0\" : \"cooked_vg\",\n",
    "    \"1329-0.0\" : \"oily_fish\",\n",
    "    \"42006-0.0\" : \"stroke_date\",\n",
    "    \"42007-0.0\" : \"stroke_source\",\n",
    "    \"42008-0.0\" : \"ischaemic_stroke_date\",\n",
    "    \"42009-0.0\" : \"ischaemic_stroke_source\",\n",
    "    \"42010-0.0\" : \"intracerebral_haemorrhage_date\",\n",
    "    \"42011-0.0\" : \"intracerebral_haemorrhage_source\",\n",
    "    \"42012-0.0\" : \"subarachnoid_haemorrhage_date\",\n",
    "    \"42013-0.0\" : \"subarachnoid_haemorrhage_source\",\n",
    "    \"42000-0.0\" : \"myocardial_infarction_date\",\n",
    "    \"42001-0.0\" : \"myocardial_infarction_source\",\n",
    "    \"42002-0.0\" : \"STEMI_date\",\n",
    "    \"42003-0.0\" : \"STEMI_source\",\n",
    "    \"42004-0.0\" : \"NSTEMI_date\",\n",
    "    \"42005-0.0\" : \"NSTEMI_source\"\n",
    "    }\n",
    "\n",
    "final_df_full.rename(columns=field_list_aliases, inplace=True)\n"
   ]
  },
  {
   "cell_type": "code",
   "execution_count": 19,
   "id": "6557e639-9e6a-44be-b1f4-1bff8e497853",
   "metadata": {},
   "outputs": [
    {
     "name": "stdout",
     "output_type": "stream",
     "text": [
      "       eid  sex  year_birth  month_birth  cooked_vg  fresh_fruit  oily_fish  \\\n",
      "0  1000011    0        1955            9        2.0          3.0        2.0   \n",
      "1  1000026    0        1947            3        2.0          4.0        1.0   \n",
      "2  1000032    0        1967            7        1.0          4.0        0.0   \n",
      "3  1000044    1        1946            1        1.0          2.0        1.0   \n",
      "4  1000058    0        1948           12        2.0          2.0        2.0   \n",
      "5  1000060    0        1965            7        3.0          2.0        2.0   \n",
      "6  1000075    1        1957           10        2.0          4.0        2.0   \n",
      "7  1000083    1        1954            8        1.0          1.0        2.0   \n",
      "8  1000097    0        1969            5        2.0          1.0        2.0   \n",
      "9  1000102    1        1954            9        4.0          0.0        0.0   \n",
      "\n",
      "   alcohol_raw  education_raw  smoking_raw  ...  stroke_source  \\\n",
      "0          6.0            1.0          0.0  ...            NaN   \n",
      "1          4.0            1.0          0.0  ...            NaN   \n",
      "2          3.0            3.0          0.0  ...            NaN   \n",
      "3          3.0           -7.0          1.0  ...            NaN   \n",
      "4          6.0            5.0          0.0  ...            NaN   \n",
      "5          2.0            1.0         -3.0  ...            NaN   \n",
      "6          2.0            2.0          0.0  ...            NaN   \n",
      "7          1.0           -7.0          1.0  ...            NaN   \n",
      "8          5.0            4.0          0.0  ...            NaN   \n",
      "9          1.0            5.0          1.0  ...            NaN   \n",
      "\n",
      "   ischaemic_stroke_date ischaemic_stroke_source  \\\n",
      "0                    NaN                     NaN   \n",
      "1                    NaN                     NaN   \n",
      "2                    NaN                     NaN   \n",
      "3                    NaN                     NaN   \n",
      "4                    NaN                     NaN   \n",
      "5                    NaN                     NaN   \n",
      "6                    NaN                     NaN   \n",
      "7                    NaN                     NaN   \n",
      "8                    NaN                     NaN   \n",
      "9                    NaN                     NaN   \n",
      "\n",
      "  intracerebral_haemorrhage_date  intracerebral_haemorrhage_source  \\\n",
      "0                            NaN                               NaN   \n",
      "1                            NaN                               NaN   \n",
      "2                            NaN                               NaN   \n",
      "3                            NaN                               NaN   \n",
      "4                            NaN                               NaN   \n",
      "5                            NaN                               NaN   \n",
      "6                            NaN                               NaN   \n",
      "7                            NaN                               NaN   \n",
      "8                            NaN                               NaN   \n",
      "9                            NaN                               NaN   \n",
      "\n",
      "   myocardial_infarction_date  myocardial_infarction_source  STEMI_date  \\\n",
      "0                         NaN                           NaN         NaN   \n",
      "1                         NaN                           NaN         NaN   \n",
      "2                         NaN                           NaN         NaN   \n",
      "3                  2012-05-17                          11.0         NaN   \n",
      "4                         NaN                           NaN         NaN   \n",
      "5                         NaN                           NaN         NaN   \n",
      "6                         NaN                           NaN         NaN   \n",
      "7                         NaN                           NaN         NaN   \n",
      "8                         NaN                           NaN         NaN   \n",
      "9                         NaN                           NaN         NaN   \n",
      "\n",
      "   STEMI_source  NSTEMI_date  \n",
      "0           NaN          NaN  \n",
      "1           NaN          NaN  \n",
      "2           NaN          NaN  \n",
      "3           NaN   2012-05-17  \n",
      "4           NaN          NaN  \n",
      "5           NaN          NaN  \n",
      "6           NaN          NaN  \n",
      "7           NaN          NaN  \n",
      "8           NaN          NaN  \n",
      "9           NaN          NaN  \n",
      "\n",
      "[10 rows x 33 columns]\n",
      "Index(['eid', 'sex', 'year_birth', 'month_birth', 'cooked_vg', 'fresh_fruit',\n",
      "       'oily_fish', 'alcohol_raw', 'education_raw', 'smoking_raw',\n",
      "       'ethnicity_raw', 'BMI_raw', 'accel_raw', 'date_lost_followup',\n",
      "       'quality_good_calibration', 'clips_before_cal', 'clips_after_cal',\n",
      "       'total_reads', 'quality_good_wear_time', 'overall_activity',\n",
      "       'date_end_accel', 'tdi_raw', 'stroke_date', 'stroke_source',\n",
      "       'ischaemic_stroke_date', 'ischaemic_stroke_source',\n",
      "       'intracerebral_haemorrhage_date', 'intracerebral_haemorrhage_source',\n",
      "       'myocardial_infarction_date', 'myocardial_infarction_source',\n",
      "       'STEMI_date', 'STEMI_source', 'NSTEMI_date'],\n",
      "      dtype='object')\n"
     ]
    }
   ],
   "source": [
    "\n",
    "# we verify the columns \n",
    "\n",
    "print(final_df_full.head(10))\n",
    "\n",
    "final_df_full.to_csv('/home/yalap95/current_df/final_df/final_df_full.csv', index=False)\n",
    "#print(final_df.info())\n",
    "\n",
    "print(final_df_full.columns)"
   ]
  },
  {
   "cell_type": "code",
   "execution_count": 20,
   "id": "9d80f629-66c6-4a2e-8a57-8d34ba6362f4",
   "metadata": {},
   "outputs": [],
   "source": [
    "#print(final_df_full['qualif_raw'])"
   ]
  },
  {
   "cell_type": "markdown",
   "id": "f243a0cf-795d-4367-a938-38fc496abe48",
   "metadata": {},
   "source": [
    "## Data values management to match OxWearables code"
   ]
  },
  {
   "cell_type": "code",
   "execution_count": 21,
   "id": "8bbe4994-a00e-45c5-86b0-19392c01f79c",
   "metadata": {},
   "outputs": [],
   "source": [
    "\n",
    "# convert the quality calibration values to \"Yes\" (if == 1.0) and \"No\" (if == \"NaN\")\n",
    "final_df_full['quality_good_calibration'] = final_df_full['quality_good_calibration'].apply(lambda x: 'Yes' if x == 1.0 else 'No')\n"
   ]
  },
  {
   "cell_type": "code",
   "execution_count": 22,
   "id": "ca9bf901-a1a1-490b-ab8e-d005504510ce",
   "metadata": {},
   "outputs": [],
   "source": [
    "\n",
    "# convert the quality good wear time values to \"Yes\" (if == 1.0) and \"No\" (if == \"NaN\")\n",
    "final_df_full['quality_good_wear_time'] = final_df_full['quality_good_wear_time'].apply(lambda x: 'Yes' if x == 1.0 else 'No')\n"
   ]
  },
  {
   "cell_type": "markdown",
   "id": "50cedea6-c95c-4453-96e2-ed6e2a0adaec",
   "metadata": {},
   "source": [
    "## Update final_df_full"
   ]
  },
  {
   "cell_type": "code",
   "execution_count": 23,
   "id": "6927680c-ae8e-439d-a8dd-b5b1032875dd",
   "metadata": {},
   "outputs": [],
   "source": [
    "#print(final_df_full.info())\n",
    "#print(final_df_full)"
   ]
  },
  {
   "cell_type": "code",
   "execution_count": 24,
   "id": "eebfc5b5-f3d3-4a36-9e43-1f89a2f1a245",
   "metadata": {},
   "outputs": [],
   "source": [
    "\n",
    "# update final_df table to not lose data modifications\n",
    "final_df_full.to_csv('/home/yalap95/current_df/final_df/final_df_full.csv', index=False)"
   ]
  },
  {
   "cell_type": "code",
   "execution_count": 25,
   "id": "cedee60a-8dde-49d3-90c0-3d8e34b128c4",
   "metadata": {},
   "outputs": [],
   "source": [
    "\n",
    "# save to Hiroshi's directory\n",
    "final_df_full.to_csv('/lustre03/project/6089465/final_df/final_df_full.csv', index=False)\n"
   ]
  },
  {
   "cell_type": "markdown",
   "id": "7d9a0f40-7a3f-4772-9a0c-0f0815042809",
   "metadata": {
    "jp-MarkdownHeadingCollapsed": true,
    "tags": []
   },
   "source": [
    "# Creating the UKBB data table (head 1000 subset)"
   ]
  },
  {
   "cell_type": "markdown",
   "id": "894beff3-4aec-4442-93cb-8d13eeca6da1",
   "metadata": {},
   "source": [
    "## Import the data"
   ]
  },
  {
   "cell_type": "code",
   "execution_count": 26,
   "id": "046ab67a-b4a1-47ee-ae32-1c5288e358bf",
   "metadata": {},
   "outputs": [],
   "source": [
    "\n",
    "current_df = pd.read_csv('current_subset.csv') # current_df demographic columns\n",
    "twi = pd.read_csv('townsend.csv') # townsend index column\n",
    "#c_ox = pd.read_csv('current_df_ox.csv')\n",
    "strokes_mi = pd.read_csv('strokes_mi.csv') # strokes and MI related columns\n",
    "\n",
    "current_subset_2 = pd.merge(current_df, twi, on='eid')\n",
    "\n",
    "current_subset_2.to_csv('/home/yalap95/current_df/current_subset_2.csv', index=False)\n",
    "\n",
    "\n",
    "# we merge all the dfs together based off the \"eid\"\n",
    "final_df = pd.merge(current_subset_2, strokes_mi, on='eid')\n",
    "final_df.to_csv('/home/yalap95/current_df/final_df.csv', index=False)"
   ]
  },
  {
   "cell_type": "code",
   "execution_count": 27,
   "id": "5f93b11c-1548-4dd5-b0e4-50650681caea",
   "metadata": {},
   "outputs": [],
   "source": [
    "#print(final_df.info())"
   ]
  },
  {
   "cell_type": "markdown",
   "id": "52381093-9995-45ba-a05d-b9e55c70212c",
   "metadata": {},
   "source": [
    "## Rename columns"
   ]
  },
  {
   "cell_type": "code",
   "execution_count": 28,
   "id": "b29a1a43-c430-422a-afa6-470d9db77cfd",
   "metadata": {},
   "outputs": [],
   "source": [
    "\n",
    "# we rename the columns so that they match the OxWearables RMD script\n",
    "\n",
    "field_list_aliases = {\n",
    "    \"eid\" : \"eid\",\n",
    "    \"31-0.0\" :  \"sex\",\n",
    "    \"52-0.0\" : \"month_birth\",\n",
    "    \"34-0.0\" : \"year_birth\",\n",
    "    \"54-1.0\" : \"ukb_assess_cent\",\n",
    "    \"21000-0.0\" : \"ethnicity_raw\",\n",
    "    \"22189-0.0\" : \"tdi_raw\",\n",
    "    \"6138-0.0\" : \"qualif_raw\",\n",
    "    \"845-0.0\" : \"age_education_raw\",\n",
    "    \"20116-0.0\" : \"smoking_raw\",\n",
    "    \"1558-0.0\" : \"alcohol_raw\",\n",
    "    \"21001-0.0\" : \"BMI_raw\",\n",
    "    \"90001-0.0\" : \"accel_raw\",\n",
    "    \"191-0.0\" : \"date_lost_followup\",\n",
    "    \"6150-0.0\" : \"self_report_cvd_baseline\",\n",
    "    \"6150-0.1\" : \"self_report_cvd_inst_1\",\n",
    "    \"6150-0.2\" : \"self_report_cvd_inst_2\",\n",
    "    \"53-0.0\" : \"date_baseline\",\n",
    "    \"53-1.0\" : \"date_inst_1\",\n",
    "    \"53-2.0\" : \"date_inst_2\",\n",
    "    \"90016-0.0\" : \"quality_good_calibration\",\n",
    "    \"90183-0.0\" : \"clips_before_cal\",\n",
    "    \"90185-0.0\" : \"clips_after_cal\",\n",
    "    \"90187-0.0\" : \"total_reads\",\n",
    "    \"90015-0.0\" : \"quality_good_wear_time\",\n",
    "    \"90012-0.0\" : \"overall_activity\",\n",
    "    \"90011-0.0\" : \"date_end_accel\",\n",
    "    \"1309-0.0\" : \"fresh_fruit\",\n",
    "    \"1289-0.0\" : \"cooked_vg\",\n",
    "    \"1329-0.0\" : \"oily_fish\",\n",
    "    \"42006-0.0\" : \"stroke_date\",\n",
    "    \"42007-0.0\" : \"stroke_source\",\n",
    "    \"42008-0.0\" : \"ischaemic_stroke_date\",\n",
    "    \"42009-0.0\" : \"ischaemic_stroke_source\",\n",
    "    \"42010-0.0\" : \"intracerebral_haemorrhage_date\",\n",
    "    \"42011-0.0\" : \"intracerebral_haemorrhage_source\",\n",
    "    \"42012-0.0\" : \"subarachnoid_haemorrhage_date\",\n",
    "    \"42013-0.0\" : \"subarachnoid_haemorrhage_source\",\n",
    "    \"42000-0.0\" : \"myocardial_infarction_date\",\n",
    "    \"42001-0.0\" : \"myocardial_infarction_source\",\n",
    "    \"42002-0.0\" : \"STEMI_date\",\n",
    "    \"42003-0.0\" : \"STEMI_source\",\n",
    "    \"42004-0.0\" : \"NSTEMI_date\",\n",
    "    \"42005-0.0\" : \"NSTEMI_source\"\n",
    "    }\n",
    "\n",
    "final_df.rename(columns=field_list_aliases, inplace=True)\n"
   ]
  },
  {
   "cell_type": "code",
   "execution_count": 29,
   "id": "b9d7948e-22c2-4bdb-bc09-5e8007bee92c",
   "metadata": {},
   "outputs": [
    {
     "name": "stdout",
     "output_type": "stream",
     "text": [
      "       eid  sex  year_birth  month_birth  cooked_vg  fresh_fruit  oily_fish  \\\n",
      "0  1000011    0        1955            9        2.0          3.0        2.0   \n",
      "1  1000026    0        1947            3        2.0          4.0        1.0   \n",
      "2  1000032    0        1967            7        1.0          4.0        0.0   \n",
      "3  1000044    1        1946            1        1.0          2.0        1.0   \n",
      "4  1000058    0        1948           12        2.0          2.0        2.0   \n",
      "5  1000060    0        1965            7        3.0          2.0        2.0   \n",
      "6  1000075    1        1957           10        2.0          4.0        2.0   \n",
      "7  1000083    1        1954            8        1.0          1.0        2.0   \n",
      "8  1000097    0        1969            5        2.0          1.0        2.0   \n",
      "9  1000102    1        1954            9        4.0          0.0        0.0   \n",
      "\n",
      "   alcohol_raw  qualif_raw  smoking_raw  ...  stroke_source  \\\n",
      "0          6.0         1.0          0.0  ...            NaN   \n",
      "1          4.0         1.0          0.0  ...            NaN   \n",
      "2          3.0         3.0          0.0  ...            NaN   \n",
      "3          3.0        -7.0          1.0  ...            NaN   \n",
      "4          6.0         5.0          0.0  ...            NaN   \n",
      "5          2.0         1.0         -3.0  ...            NaN   \n",
      "6          2.0         2.0          0.0  ...            NaN   \n",
      "7          1.0        -7.0          1.0  ...            NaN   \n",
      "8          5.0         4.0          0.0  ...            NaN   \n",
      "9          1.0         5.0          1.0  ...            NaN   \n",
      "\n",
      "   ischaemic_stroke_date ischaemic_stroke_source  \\\n",
      "0                    NaN                     NaN   \n",
      "1                    NaN                     NaN   \n",
      "2                    NaN                     NaN   \n",
      "3                    NaN                     NaN   \n",
      "4                    NaN                     NaN   \n",
      "5                    NaN                     NaN   \n",
      "6                    NaN                     NaN   \n",
      "7                    NaN                     NaN   \n",
      "8                    NaN                     NaN   \n",
      "9                    NaN                     NaN   \n",
      "\n",
      "  intracerebral_haemorrhage_date  intracerebral_haemorrhage_source  \\\n",
      "0                            NaN                               NaN   \n",
      "1                            NaN                               NaN   \n",
      "2                            NaN                               NaN   \n",
      "3                            NaN                               NaN   \n",
      "4                            NaN                               NaN   \n",
      "5                            NaN                               NaN   \n",
      "6                            NaN                               NaN   \n",
      "7                            NaN                               NaN   \n",
      "8                            NaN                               NaN   \n",
      "9                            NaN                               NaN   \n",
      "\n",
      "   myocardial_infarction_date  myocardial_infarction_source  STEMI_date  \\\n",
      "0                         NaN                           NaN         NaN   \n",
      "1                         NaN                           NaN         NaN   \n",
      "2                         NaN                           NaN         NaN   \n",
      "3                  2012-05-17                          11.0         NaN   \n",
      "4                         NaN                           NaN         NaN   \n",
      "5                         NaN                           NaN         NaN   \n",
      "6                         NaN                           NaN         NaN   \n",
      "7                         NaN                           NaN         NaN   \n",
      "8                         NaN                           NaN         NaN   \n",
      "9                         NaN                           NaN         NaN   \n",
      "\n",
      "   STEMI_source  NSTEMI_date  \n",
      "0           NaN          NaN  \n",
      "1           NaN          NaN  \n",
      "2           NaN          NaN  \n",
      "3           NaN   2012-05-17  \n",
      "4           NaN          NaN  \n",
      "5           NaN          NaN  \n",
      "6           NaN          NaN  \n",
      "7           NaN          NaN  \n",
      "8           NaN          NaN  \n",
      "9           NaN          NaN  \n",
      "\n",
      "[10 rows x 33 columns]\n",
      "Index(['eid', 'sex', 'year_birth', 'month_birth', 'cooked_vg', 'fresh_fruit',\n",
      "       'oily_fish', 'alcohol_raw', 'qualif_raw', 'smoking_raw',\n",
      "       'ethnicity_raw', 'BMI_raw', 'accel_raw', 'date_lost_followup',\n",
      "       'quality_good_calibration', 'clips_before_cal', 'clips_after_cal',\n",
      "       'total_reads', 'quality_good_wear_time', 'overall_activity',\n",
      "       'date_end_accel', 'tdi_raw', 'stroke_date', 'stroke_source',\n",
      "       'ischaemic_stroke_date', 'ischaemic_stroke_source',\n",
      "       'intracerebral_haemorrhage_date', 'intracerebral_haemorrhage_source',\n",
      "       'myocardial_infarction_date', 'myocardial_infarction_source',\n",
      "       'STEMI_date', 'STEMI_source', 'NSTEMI_date'],\n",
      "      dtype='object')\n"
     ]
    }
   ],
   "source": [
    "\n",
    "# we verify the columns \n",
    "\n",
    "print(final_df.head(10))\n",
    "\n",
    "final_df.to_csv('/home/yalap95/current_df/final_df.csv')\n",
    "#print(final_df.info())\n",
    "\n",
    "print(final_df.columns)"
   ]
  },
  {
   "cell_type": "code",
   "execution_count": 30,
   "id": "f2e2e743-151f-4f23-8c72-88571349d1c0",
   "metadata": {},
   "outputs": [
    {
     "name": "stdout",
     "output_type": "stream",
     "text": [
      "['eid', 'sex', 'year_birth', 'month_birth', 'cooked_vg', 'fresh_fruit', 'oily_fish', 'alcohol_raw', 'qualif_raw', 'smoking_raw', 'ethnicity_raw', 'BMI_raw', 'accel_raw', 'date_lost_followup', 'quality_good_calibration', 'clips_before_cal', 'clips_after_cal', 'total_reads', 'quality_good_wear_time', 'overall_activity', 'date_end_accel', 'tdi_raw', 'stroke_date', 'stroke_source', 'ischaemic_stroke_date', 'ischaemic_stroke_source', 'intracerebral_haemorrhage_date', 'intracerebral_haemorrhage_source', 'myocardial_infarction_date', 'myocardial_infarction_source', 'STEMI_date', 'STEMI_source', 'NSTEMI_date']\n"
     ]
    }
   ],
   "source": [
    "columns = list(final_df.columns)\n",
    "print(columns)"
   ]
  },
  {
   "cell_type": "markdown",
   "id": "02bf4b5c-4336-4ca9-85d0-ea140512395c",
   "metadata": {},
   "source": [
    "## Data values management to match OxWearables code"
   ]
  },
  {
   "cell_type": "code",
   "execution_count": 31,
   "id": "261d0a76-1361-4140-97ee-799e3a36e523",
   "metadata": {},
   "outputs": [],
   "source": [
    "\n",
    "# convert the quality calibration values to \"Yes\" (if == 1.0) and \"No\" (if == \"NaN\")\n",
    "final_df['quality_good_calibration'] = final_df['quality_good_calibration'].apply(lambda x: 'Yes' if x == 1.0 else 'No')\n"
   ]
  },
  {
   "cell_type": "code",
   "execution_count": 32,
   "id": "87338bbe-9221-4094-9430-8655e651635f",
   "metadata": {},
   "outputs": [],
   "source": [
    "\n",
    "# convert the quality good wear time values to \"Yes\" (if == 1.0) and \"No\" (if == \"NaN\")\n",
    "final_df['quality_good_wear_time'] = final_df['quality_good_wear_time'].apply(lambda x: 'Yes' if x == 1.0 else 'No')\n"
   ]
  },
  {
   "cell_type": "markdown",
   "id": "7e7296b7-0380-454d-85bf-f2e54ed671ed",
   "metadata": {},
   "source": [
    "## Update final_df"
   ]
  },
  {
   "cell_type": "code",
   "execution_count": 33,
   "id": "3bc8d7d1-e40f-48a5-b381-fff7487b306b",
   "metadata": {},
   "outputs": [],
   "source": [
    "\n",
    "# update final_df table to not lose data modifications\n",
    "final_df.to_csv('/home/yalap95/current_df/final_df.csv')"
   ]
  },
  {
   "cell_type": "code",
   "execution_count": 34,
   "id": "7012df7d-4296-44ab-ac10-538a7c986a5a",
   "metadata": {},
   "outputs": [
    {
     "name": "stdout",
     "output_type": "stream",
     "text": [
      "         eid  sex  year_birth  month_birth  cooked_vg  fresh_fruit  oily_fish  \\\n",
      "0    1000011    0        1955            9        2.0          3.0        2.0   \n",
      "1    1000026    0        1947            3        2.0          4.0        1.0   \n",
      "2    1000032    0        1967            7        1.0          4.0        0.0   \n",
      "3    1000044    1        1946            1        1.0          2.0        1.0   \n",
      "4    1000058    0        1948           12        2.0          2.0        2.0   \n",
      "..       ...  ...         ...          ...        ...          ...        ...   \n",
      "994  1009964    0        1948            4        2.0          4.0        2.0   \n",
      "995  1009979    1        1940            6        2.0          1.0        3.0   \n",
      "996  1009986    0        1945            6        3.0          4.0        3.0   \n",
      "997  1009998    1        1952           12        3.0          5.0        0.0   \n",
      "998  1010007    0        1954            2        2.0          1.0        2.0   \n",
      "\n",
      "     alcohol_raw  qualif_raw  smoking_raw  ...  stroke_source  \\\n",
      "0            6.0         1.0          0.0  ...            NaN   \n",
      "1            4.0         1.0          0.0  ...            NaN   \n",
      "2            3.0         3.0          0.0  ...            NaN   \n",
      "3            3.0        -7.0          1.0  ...            NaN   \n",
      "4            6.0         5.0          0.0  ...            NaN   \n",
      "..           ...         ...          ...  ...            ...   \n",
      "994          3.0         3.0          1.0  ...            NaN   \n",
      "995          3.0        -7.0          1.0  ...            NaN   \n",
      "996          1.0         1.0          1.0  ...            NaN   \n",
      "997          3.0         2.0          0.0  ...            NaN   \n",
      "998          3.0        -7.0          2.0  ...            NaN   \n",
      "\n",
      "     ischaemic_stroke_date ischaemic_stroke_source  \\\n",
      "0                      NaN                     NaN   \n",
      "1                      NaN                     NaN   \n",
      "2                      NaN                     NaN   \n",
      "3                      NaN                     NaN   \n",
      "4                      NaN                     NaN   \n",
      "..                     ...                     ...   \n",
      "994                    NaN                     NaN   \n",
      "995                    NaN                     NaN   \n",
      "996                    NaN                     NaN   \n",
      "997                    NaN                     NaN   \n",
      "998                    NaN                     NaN   \n",
      "\n",
      "    intracerebral_haemorrhage_date intracerebral_haemorrhage_source  \\\n",
      "0                              NaN                              NaN   \n",
      "1                              NaN                              NaN   \n",
      "2                              NaN                              NaN   \n",
      "3                              NaN                              NaN   \n",
      "4                              NaN                              NaN   \n",
      "..                             ...                              ...   \n",
      "994                            NaN                              NaN   \n",
      "995                            NaN                              NaN   \n",
      "996                            NaN                              NaN   \n",
      "997                            NaN                              NaN   \n",
      "998                            NaN                              NaN   \n",
      "\n",
      "     myocardial_infarction_date  myocardial_infarction_source  STEMI_date  \\\n",
      "0                           NaN                           NaN         NaN   \n",
      "1                           NaN                           NaN         NaN   \n",
      "2                           NaN                           NaN         NaN   \n",
      "3                    2012-05-17                          11.0         NaN   \n",
      "4                           NaN                           NaN         NaN   \n",
      "..                          ...                           ...         ...   \n",
      "994                         NaN                           NaN         NaN   \n",
      "995                         NaN                           NaN         NaN   \n",
      "996                         NaN                           NaN         NaN   \n",
      "997                         NaN                           NaN         NaN   \n",
      "998                         NaN                           NaN         NaN   \n",
      "\n",
      "    STEMI_source  NSTEMI_date  \n",
      "0            NaN          NaN  \n",
      "1            NaN          NaN  \n",
      "2            NaN          NaN  \n",
      "3            NaN   2012-05-17  \n",
      "4            NaN          NaN  \n",
      "..           ...          ...  \n",
      "994          NaN          NaN  \n",
      "995          NaN          NaN  \n",
      "996          NaN          NaN  \n",
      "997          NaN          NaN  \n",
      "998          NaN          NaN  \n",
      "\n",
      "[999 rows x 33 columns]\n"
     ]
    }
   ],
   "source": [
    "print(final_df)"
   ]
  },
  {
   "cell_type": "markdown",
   "id": "f2ece7d3-401e-45b9-b59a-c2c7b8c94080",
   "metadata": {},
   "source": [
    "# Exclusion script (Python version)"
   ]
  },
  {
   "cell_type": "code",
   "execution_count": 35,
   "id": "c611d889-1918-4322-9477-a273c1118618",
   "metadata": {},
   "outputs": [],
   "source": [
    "full_df = pd.read_csv('/home/yalap95/current_df/final_df/final_df_full.csv')"
   ]
  },
  {
   "cell_type": "markdown",
   "id": "6a2224fc-707a-449e-939b-2c1f58833669",
   "metadata": {},
   "source": [
    "## Exclusion 1: Low quality accelerometer data"
   ]
  },
  {
   "cell_type": "code",
   "execution_count": 36,
   "id": "2d685c96-957b-489c-9cfd-494e6abd39a8",
   "metadata": {},
   "outputs": [],
   "source": [
    "\n",
    "# 1. low quality accelerometer data\n",
    "\n",
    "# Function to count exclusions\n",
    "def count_exclusions(df, exclusion_step_func, *args, **kwargs):\n",
    "    initial_count = len(df)\n",
    "    df = exclusion_step_func(df, *args, **kwargs)\n",
    "    final_count = len(df)\n",
    "    excluded_count = initial_count - final_count # number of excluded rows (participants)\n",
    "    return df, excluded_count\n",
    "\n",
    "exclusions = {}\n",
    "\n",
    "## 1.1 devices poorly calibrated\n",
    "full_df, excluded_1_1 = count_exclusions(full_df, lambda df: df[df['quality_good_calibration'] == \"Yes\"])\n",
    "exclusions['Devices poorly calibrated'] = excluded_1_1\n",
    "\n",
    "## 1.2 participants with >1% clipped values before or after calibration\n",
    "full_df, excluded_1_2 = count_exclusions(full_df, lambda df: df[(df['clips_before_cal'] < 0.01 * df['total_reads']) & \n",
    "                                                                (df['clips_after_cal'] < 0.01 * df['total_reads'])])\n",
    "exclusions['>1% clipped values before/after calibration'] = excluded_1_2\n",
    "\n",
    "## 1.3 insufficient wear time\n",
    "full_df, excluded_1_3 = count_exclusions(full_df, lambda df: df[df['quality_good_wear_time'] == \"Yes\"])\n",
    "exclusions['Insufficient wear time'] = excluded_1_3\n",
    "\n",
    "## 1.4 unrealistically high acceleration values\n",
    "full_df, excluded_1_4 = count_exclusions(full_df, lambda df: df[df['overall_activity'] < 100])\n",
    "exclusions['Unrealistically high acceleration values'] = excluded_1_4"
   ]
  },
  {
   "cell_type": "code",
   "execution_count": 37,
   "id": "045fedc3-eb98-4773-a664-66304584af4a",
   "metadata": {},
   "outputs": [
    {
     "name": "stdout",
     "output_type": "stream",
     "text": [
      "398623\n",
      "0\n",
      "6978\n",
      "13\n",
      "405614\n"
     ]
    }
   ],
   "source": [
    "\n",
    "# number of people that were excluded due to low quality accelerometer data\n",
    "print(excluded_1_1)\n",
    "print(excluded_1_2)\n",
    "print(excluded_1_3)\n",
    "print(excluded_1_4)\n",
    "\n",
    "print(excluded_1_1+excluded_1_2+excluded_1_3+excluded_1_4)"
   ]
  },
  {
   "cell_type": "code",
   "execution_count": 38,
   "id": "73f35299-0e22-49be-8bb9-510e857d9759",
   "metadata": {},
   "outputs": [],
   "source": [
    "#print(full_df['stroke_date'].head(100))"
   ]
  },
  {
   "cell_type": "markdown",
   "id": "713f2cf0-3a80-4d95-bddd-80c7aa779617",
   "metadata": {},
   "source": [
    "## Exclusion 2: Reported CVD"
   ]
  },
  {
   "cell_type": "code",
   "execution_count": 39,
   "id": "8d4dd1df-3516-4271-9d17-dddbae44cf63",
   "metadata": {},
   "outputs": [],
   "source": [
    "\n",
    "# 2. cardiovascular disease diagnosis in HES prior to accelerometer wear (2013)\n",
    "# define the cut-off date\n",
    "\n",
    "# create dictionnary to keep count of participants excluded\n",
    "exclusions = {}\n",
    "\n",
    "# function to count exclusions and filter dates\n",
    "def count_and_filter_dates(df, date_column, cut_off_date):\n",
    "    initial_count = len(df)\n",
    "    df = df[(df[date_column].isna()) | (df[date_column] >= cut_off_date)]\n",
    "    final_count = len(df)\n",
    "    excluded_count = initial_count - final_count # number of excluded rows (participants)\n",
    "    return df, excluded_count\n",
    "\n",
    "# CVD date columns\n",
    "date_columns = [\n",
    "    'stroke_date', 'ischaemic_stroke_date', 'intracerebral_haemorrhage_date',\n",
    "    'myocardial_infarction_date', 'STEMI_date', 'NSTEMI_date'\n",
    "]\n",
    "\n",
    "# convert date columns to datetime\n",
    "for col in date_columns:\n",
    "    full_df[col] = pd.to_datetime(full_df[col], format=\"%Y-%m-%d\", errors='coerce')\n",
    "\n",
    "# define the cut-off date\n",
    "cut_off_date = pd.to_datetime(\"2013-01-01\")\n",
    "\n",
    "# apply filtering and count exclusions for each condition\n",
    "for col in date_columns:\n",
    "    full_df, excluded_count = count_and_filter_dates(full_df, col, cut_off_date)\n",
    "    exclusions[f'Excluded based on {col}'] = excluded_count\n"
   ]
  },
  {
   "cell_type": "code",
   "execution_count": 40,
   "id": "c92f703c-edf8-4df9-a6af-1c3e97d823cb",
   "metadata": {},
   "outputs": [
    {
     "name": "stdout",
     "output_type": "stream",
     "text": [
      "Exclusions at each step:\n",
      "Excluded based on stroke_date: 1140 participants excluded\n",
      "Excluded based on ischaemic_stroke_date: 0 participants excluded\n",
      "Excluded based on intracerebral_haemorrhage_date: 0 participants excluded\n",
      "Excluded based on myocardial_infarction_date: 1796 participants excluded\n",
      "Excluded based on STEMI_date: 0 participants excluded\n",
      "Excluded based on NSTEMI_date: 0 participants excluded\n"
     ]
    }
   ],
   "source": [
    "\n",
    "# number of people that were excluded for reporting CVD before 2013\n",
    "print(\"Exclusions at each step:\")\n",
    "for step, count in exclusions.items():\n",
    "    print(f\"{step}: {count} participants excluded\")"
   ]
  },
  {
   "cell_type": "markdown",
   "id": "838acf5e-30d1-4848-9d53-05906880b7b8",
   "metadata": {},
   "source": [
    "## Exclusion 3: Missing covariate data"
   ]
  },
  {
   "cell_type": "code",
   "execution_count": 45,
   "id": "9f9822e6-b673-4e38-b71f-f390cc0c8273",
   "metadata": {},
   "outputs": [],
   "source": [
    "\n",
    "# 3. missing data for ethnicity, education, smoking status, alcohol consumption, or Townsend Deprivation Index\n",
    "keep_cols = ['smoking_raw', 'alcohol_raw', 'ethnicity_raw', 'tdi_raw', 'education_raw', 'oily_fish', 'fresh_fruit', 'cooked_vg', 'BMI_raw', 'sex', 'month_birth', 'year_birth']\n",
    "\n",
    "# loop through each column to identify NA data\n",
    "for col in keep_cols:\n",
    "    initial_count = len(full_df)\n",
    "    # Drop rows with missing data in the current column\n",
    "    full_df = full_df.dropna(subset=[col])\n",
    "    final_count = len(full_df)\n",
    "    excluded_count = initial_count - final_count\n",
    "    exclusions[f'Excluded based on {col}'] = excluded_count\n",
    "\n"
   ]
  },
  {
   "cell_type": "code",
   "execution_count": 42,
   "id": "1669b811-566a-4973-b2f8-b395a9b0d587",
   "metadata": {},
   "outputs": [
    {
     "name": "stdout",
     "output_type": "stream",
     "text": [
      "Exclusions due to missing data for each variable:\n",
      "Excluded based on stroke_date: 1140 participants excluded\n",
      "Excluded based on ischaemic_stroke_date: 0 participants excluded\n",
      "Excluded based on intracerebral_haemorrhage_date: 0 participants excluded\n",
      "Excluded based on myocardial_infarction_date: 1796 participants excluded\n",
      "Excluded based on STEMI_date: 0 participants excluded\n",
      "Excluded based on NSTEMI_date: 0 participants excluded\n",
      "Excluded based on smoking_raw: 43 participants excluded\n",
      "Excluded based on alcohol_raw: 1 participants excluded\n",
      "Excluded based on ethnicity_raw: 0 participants excluded\n",
      "Excluded based on tdi_raw: 108 participants excluded\n",
      "Excluded based on education_raw: 509 participants excluded\n",
      "Excluded based on oily_fish: 0 participants excluded\n",
      "Excluded based on fresh_fruit: 0 participants excluded\n",
      "Excluded based on cooked_vg: 0 participants excluded\n",
      "Excluded based on BMI_raw: 183 participants excluded\n",
      "Excluded based on sex: 0 participants excluded\n",
      "Excluded based on month_birth: 0 participants excluded\n",
      "Excluded based on year_birth: 0 participants excluded\n"
     ]
    }
   ],
   "source": [
    "\n",
    "# number of people that were excluded for each demographic variable\n",
    "print(\"Exclusions due to missing data for each variable:\")\n",
    "for var, count in exclusions.items():\n",
    "    print(f\"{var}: {count} participants excluded\")"
   ]
  },
  {
   "cell_type": "code",
   "execution_count": 43,
   "id": "cf1be946-a1e6-45de-aafc-6aec04bfd06f",
   "metadata": {},
   "outputs": [
    {
     "name": "stdout",
     "output_type": "stream",
     "text": [
      "            eid  sex  year_birth  month_birth  cooked_vg  fresh_fruit  \\\n",
      "2       1000032    0        1967            7        1.0          4.0   \n",
      "7       1000083    1        1954            8        1.0          1.0   \n",
      "8       1000097    0        1969            5        2.0          1.0   \n",
      "15      1000168    0        1941            5        3.0          3.0   \n",
      "26      1000276    1        1955            5        5.0          3.0   \n",
      "...         ...  ...         ...          ...        ...          ...   \n",
      "502222  6024868    1        1946           11        4.0          4.0   \n",
      "502223  6024877    0        1945            7        3.0          2.0   \n",
      "502225  6024895    1        1949           11        4.0          3.0   \n",
      "502227  6024913    1        1947           11        5.0          2.0   \n",
      "502245  6025094    0        1942            5        3.0          2.0   \n",
      "\n",
      "        oily_fish  alcohol_raw  education_raw  smoking_raw  ...  \\\n",
      "2             0.0          3.0            3.0          0.0  ...   \n",
      "7             2.0          1.0           -7.0          1.0  ...   \n",
      "8             2.0          5.0            4.0          0.0  ...   \n",
      "15            3.0          1.0            1.0          0.0  ...   \n",
      "26            3.0          1.0            1.0          0.0  ...   \n",
      "...           ...          ...            ...          ...  ...   \n",
      "502222        2.0          1.0            6.0          0.0  ...   \n",
      "502223        1.0          3.0            6.0          1.0  ...   \n",
      "502225        2.0          4.0            1.0          0.0  ...   \n",
      "502227        1.0          4.0           -7.0          0.0  ...   \n",
      "502245        3.0          4.0            3.0          1.0  ...   \n",
      "\n",
      "        stroke_source  ischaemic_stroke_date ischaemic_stroke_source  \\\n",
      "2                 NaN                    NaT                     NaN   \n",
      "7                 NaN                    NaT                     NaN   \n",
      "8                 NaN                    NaT                     NaN   \n",
      "15                NaN                    NaT                     NaN   \n",
      "26                NaN                    NaT                     NaN   \n",
      "...               ...                    ...                     ...   \n",
      "502222            NaN                    NaT                     NaN   \n",
      "502223            NaN                    NaT                     NaN   \n",
      "502225            NaN                    NaT                     NaN   \n",
      "502227            NaN                    NaT                     NaN   \n",
      "502245            NaN                    NaT                     NaN   \n",
      "\n",
      "       intracerebral_haemorrhage_date intracerebral_haemorrhage_source  \\\n",
      "2                                 NaT                              NaN   \n",
      "7                                 NaT                              NaN   \n",
      "8                                 NaT                              NaN   \n",
      "15                                NaT                              NaN   \n",
      "26                                NaT                              NaN   \n",
      "...                               ...                              ...   \n",
      "502222                            NaT                              NaN   \n",
      "502223                            NaT                              NaN   \n",
      "502225                            NaT                              NaN   \n",
      "502227                            NaT                              NaN   \n",
      "502245                            NaT                              NaN   \n",
      "\n",
      "        myocardial_infarction_date  myocardial_infarction_source  STEMI_date  \\\n",
      "2                              NaT                           NaN         NaT   \n",
      "7                              NaT                           NaN         NaT   \n",
      "8                              NaT                           NaN         NaT   \n",
      "15                             NaT                           NaN         NaT   \n",
      "26                             NaT                           NaN         NaT   \n",
      "...                            ...                           ...         ...   \n",
      "502222                         NaT                           NaN         NaT   \n",
      "502223                         NaT                           NaN         NaT   \n",
      "502225                         NaT                           NaN         NaT   \n",
      "502227                         NaT                           NaN         NaT   \n",
      "502245                         NaT                           NaN         NaT   \n",
      "\n",
      "       STEMI_source  NSTEMI_date  \n",
      "2               NaN          NaT  \n",
      "7               NaN          NaT  \n",
      "8               NaN          NaT  \n",
      "15              NaN          NaT  \n",
      "26              NaN          NaT  \n",
      "...             ...          ...  \n",
      "502222          NaN          NaT  \n",
      "502223          NaN          NaT  \n",
      "502225          NaN          NaT  \n",
      "502227          NaN          NaT  \n",
      "502245          NaN          NaT  \n",
      "\n",
      "[92854 rows x 33 columns]\n"
     ]
    }
   ],
   "source": [
    "print(full_df)"
   ]
  }
 ],
 "metadata": {
  "kernelspec": {
   "display_name": "Python 3.11",
   "language": "python",
   "name": "python3"
  },
  "language_info": {
   "codemirror_mode": {
    "name": "ipython",
    "version": 3
   },
   "file_extension": ".py",
   "mimetype": "text/x-python",
   "name": "python",
   "nbconvert_exporter": "python",
   "pygments_lexer": "ipython3",
   "version": "3.11.5"
  }
 },
 "nbformat": 4,
 "nbformat_minor": 5
}
